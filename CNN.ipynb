{
  "nbformat": 4,
  "nbformat_minor": 0,
  "metadata": {
    "colab": {
      "name": "CNN.ipynb",
      "provenance": [],
      "collapsed_sections": []
    },
    "kernelspec": {
      "name": "python3",
      "display_name": "Python 3"
    },
    "language_info": {
      "name": "python"
    }
  },
  "cells": [
    {
      "cell_type": "code",
      "metadata": {
        "id": "LtvYJyamYVHW"
      },
      "source": [
        "import tensorflow as tf\n",
        "from tensorflow import keras\n",
        "import numpy as np"
      ],
      "execution_count": null,
      "outputs": []
    },
    {
      "cell_type": "code",
      "metadata": {
        "id": "5L16SMRkY62E"
      },
      "source": [
        "fashion_mnist = keras.datasets.fashion_mnist"
      ],
      "execution_count": null,
      "outputs": []
    },
    {
      "cell_type": "code",
      "metadata": {
        "id": "MWuGosh-ZHHj"
      },
      "source": [
        "(train_images, train_labels),(test_images, test_labels) = fashion_mnist.load_data()"
      ],
      "execution_count": null,
      "outputs": []
    },
    {
      "cell_type": "code",
      "metadata": {
        "id": "NFMt4iDpZTM3"
      },
      "source": [
        "train_images = train_images/255.0\n",
        "test_images = test_images/255.0"
      ],
      "execution_count": null,
      "outputs": []
    },
    {
      "cell_type": "code",
      "metadata": {
        "colab": {
          "base_uri": "https://localhost:8080/"
        },
        "id": "352zTGhrZdpX",
        "outputId": "63588a00-80ff-4cf8-91f5-0337b9d509d3"
      },
      "source": [
        "test_images[0].shape\n"
      ],
      "execution_count": null,
      "outputs": [
        {
          "output_type": "execute_result",
          "data": {
            "text/plain": [
              "(28, 28)"
            ]
          },
          "metadata": {
            "tags": []
          },
          "execution_count": 36
        }
      ]
    },
    {
      "cell_type": "code",
      "metadata": {
        "id": "COeAGAmaZjL8"
      },
      "source": [
        "train_images = train_images.reshape(len(train_images), 28,28,1)\n",
        "test_images = test_images.reshape(len(test_images), 28,28,1)"
      ],
      "execution_count": null,
      "outputs": []
    },
    {
      "cell_type": "code",
      "metadata": {
        "colab": {
          "base_uri": "https://localhost:8080/",
          "height": 129
        },
        "id": "gpG1QGuxZnTE",
        "outputId": "2618d797-00f0-45ed-c361-14e7274a69fb"
      },
      "source": [
        "def build_model(hp) :\n",
        "    model = keras.Sequential([\n",
        "     keras.layers.Conv2D(\n",
        "filters=hp.Int(‘conv_1_filter’, min_value=32, max_value=128, steps=16),\n",
        "kernel_size = hp.Choice(‘conv_1_kernel’, values = [3,5]),\n",
        "activation = ‘relu’,\n",
        "input_shape = (28,28,1)\n",
        "),\n",
        "      keras.layers.Conv2D(\n",
        "filters = hp.Int(‘conv_2_filter’, min_value=32, max_value=64, steps=16),\n",
        "kernel_size = hp.Choice(‘conv_2_kernel’, values = [3,5]),\n",
        "activation = ‘relu’,\n",
        "),\n",
        "Keras.layers.Flatten(),\n",
        "keras.layers.Dense(\n",
        "units = hp.Int(‘dense_1_units’, min_value=32, max_value=128, steps=16),\n",
        "activation = ‘relu’\n",
        "),\n",
        "Keras.layers.Dense(10,activation=’softmax’)\n",
        "])\n",
        "    model.compile(optimizer = keras.optimizers.Adam(hp.Int(‘learning_rate’, values=[1e-2, 1e-3])),loss=’sparse_categorical_crossentropy’, metrices=[‘accuracy’])\n",
        "\n",
        "return model"
      ],
      "execution_count": null,
      "outputs": [
        {
          "output_type": "error",
          "ename": "SyntaxError",
          "evalue": "ignored",
          "traceback": [
            "\u001b[0;36m  File \u001b[0;32m\"<ipython-input-38-ef91da4041bf>\"\u001b[0;36m, line \u001b[0;32m4\u001b[0m\n\u001b[0;31m    filters=hp.Int(‘conv_1_filter’, min_value=32, max_value=128, steps=16),\u001b[0m\n\u001b[0m                                 ^\u001b[0m\n\u001b[0;31mSyntaxError\u001b[0m\u001b[0;31m:\u001b[0m invalid character in identifier\n"
          ]
        }
      ]
    },
    {
      "cell_type": "code",
      "metadata": {
        "id": "-H8Wl2H5Zy3L"
      },
      "source": [
        "from kerastuner import RandomSearch\n",
        "from kerastuner.engine.hyperparameters import HyperParameters"
      ],
      "execution_count": null,
      "outputs": []
    },
    {
      "cell_type": "code",
      "metadata": {
        "id": "-PHfQKp3aWSD"
      },
      "source": [
        "tuner_search = RandomSearch(build_model,\n",
        "                            objective = ‘val_accuracy’,\n",
        "                            max_trials=5, directory=’output’, project_name=’Mnist Fashion’)"
      ],
      "execution_count": null,
      "outputs": []
    },
    {
      "cell_type": "code",
      "metadata": {
        "id": "oOYgw7LeanmL"
      },
      "source": [
        "\n",
        "tuner_search.search=(train_images,train_labels,epochs=3,validation_split=0.1)"
      ],
      "execution_count": null,
      "outputs": []
    },
    {
      "cell_type": "code",
      "metadata": {
        "id": "ZvSjp4oZa5f8"
      },
      "source": [
        "model = tuner_search.get_best_models(num_models=1)[0]"
      ],
      "execution_count": null,
      "outputs": []
    },
    {
      "cell_type": "code",
      "metadata": {
        "id": "2CLooGW-bIqU"
      },
      "source": [
        "model.summary()"
      ],
      "execution_count": null,
      "outputs": []
    },
    {
      "cell_type": "code",
      "metadata": {
        "id": "5hmrkv4rcirs"
      },
      "source": [
        ""
      ],
      "execution_count": null,
      "outputs": []
    }
  ]
}